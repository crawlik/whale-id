{
 "cells": [
  {
   "cell_type": "code",
   "execution_count": null,
   "metadata": {},
   "outputs": [],
   "source": [
    "from keras.models import load_model\n",
    "model = load_model('whale.flukes.4250_classes.weights.best.hdf5')\n",
    "\n",
    "target_size = (150, 150)"
   ]
  },
  {
   "cell_type": "markdown",
   "metadata": {},
   "source": [
    "# Classify new_whale image"
   ]
  },
  {
   "cell_type": "code",
   "execution_count": null,
   "metadata": {},
   "outputs": [],
   "source": [
    "from keras.preprocessing.image import ImageDataGenerator\n",
    "\n",
    "test_datagen = ImageDataGenerator(rescale=1. / 255)\n",
    "\n",
    "batch_size = 128\n",
    "workes = 8\n",
    "\n",
    "test_generator = test_datagen.flow_from_directory(\n",
    "    \"data/test\",\n",
    "    target_size=target_size,\n",
    "    batch_size=batch_size,\n",
    "    class_mode='categorical', shuffle=False)\n",
    "\n",
    "score = model.evaluate_generator(\n",
    "    generator=test_generator)\n",
    "\n",
    "print(\"Loss: \", score[0], \"Accuracy: \", score[1])\n",
    "\n",
    "scores = model.predict_generator(\n",
    "    generator=test_generator)"
   ]
  },
  {
   "cell_type": "code",
   "execution_count": null,
   "metadata": {},
   "outputs": [],
   "source": [
    "from sklearn.metrics import confusion_matrix\n",
    "cnf_matrix = confusion_matrix(test_generator.classes, list(map(lambda x: np.argmax(x), scores)))"
   ]
  },
  {
   "cell_type": "code",
   "execution_count": null,
   "metadata": {},
   "outputs": [],
   "source": [
    "import matplotlib.pyplot as plt\n",
    "%matplotlib inline\n",
    "\n",
    "plt.figure(figsize=(20, 20))\n",
    "plt.imshow(cnf_matrix, interpolation='none')\n",
    "plt.colorbar()\n",
    "plt.show()"
   ]
  },
  {
   "cell_type": "code",
   "execution_count": null,
   "metadata": {},
   "outputs": [],
   "source": [
    "from keras.preprocessing import image\n",
    "import numpy as np\n",
    "from keras.applications.vgg19 import VGG19, preprocess_input, decode_predictions\n",
    "import cv2\n",
    "import matplotlib.pyplot as plt\n",
    "import pandas as pd\n",
    "\n",
    "%matplotlib inline\n",
    "\n",
    "def path_to_tensor(img_path, target_size):\n",
    "    # loads RGB image as PIL.Image.Image type\n",
    "    img = image.load_img(img_path, target_size=target_size)\n",
    "    # convert PIL.Image.Image type to 3D tensor with shape (size, size, 3)\n",
    "    x = image.img_to_array(img)\n",
    "    # convert 3D tensor to 4D tensor with shape (1, size, size, colors) and return 4D tensor\n",
    "    return np.expand_dims(x, axis=0)\n",
    "\n",
    "def whale_id(generator, predicted_index):\n",
    "    return [key for key, value in test_generator.class_indices.items() if value == predicted_index][0]\n",
    "\n",
    "def display_image(path):\n",
    "    if path is None:\n",
    "        return\n",
    "    \n",
    "    img = cv2.imread(path)\n",
    "   \n",
    "    # convert BGR image to RGB for plotting\n",
    "    cv_rgb = cv2.cvtColor(img, cv2.COLOR_BGR2RGB)\n",
    "\n",
    "    # display the image, along with bounding box\n",
    "    plt.imshow(cv_rgb)\n",
    "    plt.show()\n",
    "    \n",
    "classes = model.output.shape[1]\n",
    "\n",
    "# new whales\n",
    "file = 'fa2b1d93.jpg' \n",
    "file = 'f6968c37.jpg'\n",
    "file = 'f17f76c3.jpg'\n",
    "\n",
    "# labaled whales\n",
    "# aa1569e8.jpg w_f22f3e3\n",
    "# file = 'aa1569e8.jpg'\n",
    "\n",
    "input_img_path = f'train/{file}'\n",
    "img = path_to_tensor(input_img_path, target_size)\n",
    "img = preprocess_input(img)\n",
    "print('Input image')\n",
    "display_image(input_img_path)\n",
    "\n",
    "result = model.predict(img)\n",
    "\n",
    "predicated_index = np.argmax(result)\n",
    "whale_id = whale_id(test_generator, predicated_index)\n",
    "\n",
    "print(f'Predicted whale id: {whale_id}')\n",
    "\n",
    "print('Top 5 indexes and probabilities')\n",
    "_, sorted_classes = zip(*sorted(zip(result[0], range(classes)), reverse=True))\n",
    "probs = np.array(result[0])\n",
    "print(sorted_classes[:5])\n",
    "print(probs[np.array(sorted_classes[:5])])\n",
    "\n",
    "df = pd.read_csv(\"train.csv\", header = 0)\n",
    "df = df[df.Id == whale_id]\n",
    "\n",
    "print('\\nTop predicted whale images')\n",
    "\n",
    "for file in df.Image.values:\n",
    "    predicated_image_path = f'train/{file}'\n",
    "    print(predicated_image_path)\n",
    "    display_image(predicated_image_path)\n"
   ]
  },
  {
   "cell_type": "code",
   "execution_count": null,
   "metadata": {},
   "outputs": [],
   "source": [
    "import pandas as pd\n",
    "import pathlib\n",
    "import shutil\n",
    "from keras.preprocessing.image import ImageDataGenerator\n",
    "\n",
    "df = pd.read_csv(\"train.csv\", header = 0)\n",
    "\n",
    "df = df[df.Id == 'new_whale']\n",
    "\n",
    "dst_dir = './data/predict/new_whale'\n",
    "\n",
    "pathlib.Path(dst_dir).mkdir(parents=True, exist_ok=True)\n",
    "\n",
    "for idx, file in enumerate(df.Image):\n",
    "    shutil.copy(f'./train/{file}', dst_dir)\n",
    "\n",
    "datagen = ImageDataGenerator(rescale=1. / 255)\n",
    "\n",
    "new_whale_generator = datagen.flow_from_directory(\n",
    "    \"data/predict\",\n",
    "    target_size=target_size,\n",
    "    batch_size=128,\n",
    "    class_mode=None, \n",
    "    shuffle=False)\n",
    "\n",
    "new_whale_scores = model.predict_generator(\n",
    "    generator=new_whale_generator,\n",
    "    workers=8)"
   ]
  },
  {
   "cell_type": "code",
   "execution_count": null,
   "metadata": {},
   "outputs": [],
   "source": [
    "datagen = ImageDataGenerator(rescale=1. / 255)\n",
    "\n",
    "test_generator = datagen.flow_from_directory(\n",
    "    \"data/train\",\n",
    "    target_size=target_size,\n",
    "    batch_size=128,\n",
    "    class_mode=None, \n",
    "    shuffle=False)\n",
    "\n",
    "test_scores = model.predict_generator(\n",
    "    generator=test_generator,\n",
    "    workers=8)"
   ]
  },
  {
   "cell_type": "markdown",
   "metadata": {},
   "source": [
    "# What My Deep Model Doesn't Know...\n",
    "\n",
    "http://mlg.eng.cam.ac.uk/yarin/blog_3d801aa532c1ce.html"
   ]
  },
  {
   "cell_type": "code",
   "execution_count": null,
   "metadata": {},
   "outputs": [],
   "source": [
    "import numpy as np\n",
    "\n",
    "for i in new_whale_scores[:10]:\n",
    "    print(sorted(i,reverse=True)[:10])\n",
    "    print(f'Predictive mean: {np.mean(i, axis=0)}')\n",
    "    print(f'Predictive variance: {np.var(i, axis=0)}')\n",
    "    print(f'Predictive std: {np.std(i)}')"
   ]
  }
 ],
 "metadata": {
  "kernelspec": {
   "display_name": "whale-id",
   "language": "python",
   "name": "whale-id"
  },
  "language_info": {
   "codemirror_mode": {
    "name": "ipython",
    "version": 3
   },
   "file_extension": ".py",
   "mimetype": "text/x-python",
   "name": "python",
   "nbconvert_exporter": "python",
   "pygments_lexer": "ipython3",
   "version": "3.6.6"
  }
 },
 "nbformat": 4,
 "nbformat_minor": 2
}
