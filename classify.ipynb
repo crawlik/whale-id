{
 "cells": [
  {
   "cell_type": "code",
   "execution_count": null,
   "metadata": {},
   "outputs": [],
   "source": [
    "from keras.models import load_model\n",
    "model = load_model('whale.flukes.10_classes.weights.best.hdf5')"
   ]
  },
  {
   "cell_type": "markdown",
   "metadata": {},
   "source": [
    "# Classify new_whale image"
   ]
  },
  {
   "cell_type": "code",
   "execution_count": null,
   "metadata": {},
   "outputs": [],
   "source": [
    "from keras.preprocessing import image\n",
    "import numpy as np\n",
    "from keras.applications.vgg19 import VGG19, preprocess_input, decode_predictions\n",
    "\n",
    "target_size = (150, 150)\n",
    "test_image= image.load_img('train/fe4c0693.jpg', target_size = target_size) \n",
    "test_image = image.img_to_array(test_image)\n",
    "test_image = np.expand_dims(test_image, axis = 0)\n",
    "test_image = preprocess_input(test_image)\n",
    "\n",
    "result = model.predict(test_image)\n",
    "\n",
    "print(result[0])\n",
    "_, sorted_classes = zip(*sorted(zip(result[0], range(5)), reverse=True))\n",
    "print(sorted_classes)"
   ]
  },
  {
   "cell_type": "code",
   "execution_count": null,
   "metadata": {},
   "outputs": [],
   "source": []
  }
 ],
 "metadata": {
  "kernelspec": {
   "display_name": "whale-id",
   "language": "python",
   "name": "whale-id"
  },
  "language_info": {
   "codemirror_mode": {
    "name": "ipython",
    "version": 3
   },
   "file_extension": ".py",
   "mimetype": "text/x-python",
   "name": "python",
   "nbconvert_exporter": "python",
   "pygments_lexer": "ipython3",
   "version": "3.6.6"
  }
 },
 "nbformat": 4,
 "nbformat_minor": 2
}
