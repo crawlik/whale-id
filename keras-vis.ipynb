{
 "cells": [
  {
   "cell_type": "markdown",
   "metadata": {},
   "source": [
    "## Based on https://github.com/raghakot/keras-vis/blob/master/examples/vggnet/activation_maximization.ipynb"
   ]
  },
  {
   "cell_type": "code",
   "execution_count": null,
   "metadata": {},
   "outputs": [],
   "source": [
    "from keras.models import load_model\n",
    "import numpy as np\n",
    "\n",
    "model = load_model('whale.flukes.4250_classes.weights.best.hdf5')\n",
    "train_classes = np.load('train_classes.npy')\n",
    "\n",
    "num_classes = len(train_classes) "
   ]
  },
  {
   "cell_type": "code",
   "execution_count": null,
   "metadata": {},
   "outputs": [],
   "source": [
    "model.summary()"
   ]
  },
  {
   "cell_type": "markdown",
   "metadata": {},
   "source": [
    "# Dense Layer Visualizations\n",
    "We need to switch the softmax activation out for linear"
   ]
  },
  {
   "cell_type": "code",
   "execution_count": null,
   "metadata": {},
   "outputs": [],
   "source": [
    "from vis.utils import utils\n",
    "from keras import activations\n",
    "\n",
    "# Alternatively we can specify this as -1 since it corresponds to the last layer.\n",
    "layer_idx = utils.find_layer_idx(model, 'dense_6')\n",
    "\n",
    "# Swap softmax with linear\n",
    "model.layers[layer_idx].activation = activations.linear\n",
    "model = utils.apply_modifications(model)"
   ]
  },
  {
   "cell_type": "markdown",
   "metadata": {},
   "source": [
    "## Visualize prediction layer of 20 random whales"
   ]
  },
  {
   "cell_type": "code",
   "execution_count": null,
   "metadata": {},
   "outputs": [],
   "source": [
    "import numpy as np\n",
    "from vis.utils import utils\n",
    "from vis.input_modifiers import Jitter\n",
    "from vis.visualization import visualize_activation\n",
    "from matplotlib import pyplot as plt\n",
    "from matplotlib import font_manager as font_manager\n",
    "\n",
    "# rebuild matplotlib fomt cache\n",
    "font_manager._rebuild()\n",
    "\n",
    "categories = np.random.permutation(num_classes)[:20]\n",
    "\n",
    "vis_images = []\n",
    "image_modifiers = [Jitter(16)]\n",
    "for idx in categories:    \n",
    "    img = visualize_activation(model, layer_idx, filter_indices=idx, \n",
    "                               max_iter=500, input_modifiers=image_modifiers)\n",
    "    \n",
    "    # Reverse lookup of whale id and overlay it on the image.\n",
    "    img = utils.draw_text(img, train_classes[idx], font=\"VeraMono.ttf\")\n",
    "    vis_images.append(img)\n",
    "\n",
    "# Generate stitched images with 5 cols (so it will have 3 rows).\n",
    "plt.rcParams['figure.figsize'] = (50, 50)\n",
    "stitched = utils.stitch_images(vis_images, cols=5)\n",
    "plt.axis('off')\n",
    "plt.imshow(stitched)\n",
    "plt.show()"
   ]
  },
  {
   "cell_type": "code",
   "execution_count": null,
   "metadata": {},
   "outputs": [],
   "source": []
  }
 ],
 "metadata": {
  "kernelspec": {
   "display_name": "whale-id",
   "language": "python",
   "name": "whale-id"
  },
  "language_info": {
   "codemirror_mode": {
    "name": "ipython",
    "version": 3
   },
   "file_extension": ".py",
   "mimetype": "text/x-python",
   "name": "python",
   "nbconvert_exporter": "python",
   "pygments_lexer": "ipython3",
   "version": "3.6.6"
  }
 },
 "nbformat": 4,
 "nbformat_minor": 2
}
