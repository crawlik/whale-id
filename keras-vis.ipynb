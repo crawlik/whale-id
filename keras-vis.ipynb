{
 "cells": [
  {
   "cell_type": "code",
   "execution_count": null,
   "metadata": {},
   "outputs": [],
   "source": [
    "from keras.models import load_model\n",
    "import numpy as np\n",
    "\n",
    "model = load_model('whale.flukes.4250_classes.weights.best.hdf5')\n",
    "train_classes = np.load('train_classes.npy')\n",
    "\n",
    "num_classes = len(train_classes) "
   ]
  },
  {
   "cell_type": "code",
   "execution_count": null,
   "metadata": {},
   "outputs": [],
   "source": [
    "model.summary()"
   ]
  },
  {
   "cell_type": "code",
   "execution_count": null,
   "metadata": {},
   "outputs": [],
   "source": [
    "from vis.utils import utils\n",
    "from keras import activations\n",
    "\n",
    "# Alternatively we can specify this as -1 since it corresponds to the last layer.\n",
    "layer_idx = utils.find_layer_idx(model, 'dense_3')\n",
    "\n",
    "# Swap softmax with linear\n",
    "model.layers[layer_idx].activation = activations.linear\n",
    "model = utils.apply_modifications(model)"
   ]
  },
  {
   "cell_type": "code",
   "execution_count": null,
   "metadata": {},
   "outputs": [],
   "source": [
    "from vis.visualization import visualize_activation\n",
    "from matplotlib import pyplot as plt\n",
    "from matplotlib import font_manager as font_manager\n",
    "import random\n",
    "\n",
    "font_manager._rebuild()\n",
    "\n",
    "%matplotlib inline\n",
    "\n",
    "plt.rcParams['figure.figsize'] = (18, 6)\n",
    "\n",
    "whale_index = random.randint(0, num_classes)\n",
    "\n",
    "print(f'Whale id: {train_classes[whale_index]}')\n",
    "img = visualize_activation(model, layer_idx, filter_indices=whale_index)\n",
    "\n",
    "plt.imshow(img)"
   ]
  },
  {
   "cell_type": "code",
   "execution_count": null,
   "metadata": {},
   "outputs": [],
   "source": [
    "img = visualize_activation(model, layer_idx, filter_indices=whale_index, max_iter=500, verbose=False)\n",
    "plt.imshow(img)"
   ]
  },
  {
   "cell_type": "code",
   "execution_count": null,
   "metadata": {},
   "outputs": [],
   "source": [
    "from vis.input_modifiers import Jitter\n",
    "\n",
    "# Jitter 16 pixels along all dimensions to during the optimization process.\n",
    "img = visualize_activation(model, layer_idx, filter_indices=whale_index, max_iter=100, input_modifiers=[Jitter(16)])\n",
    "plt.imshow(img)"
   ]
  },
  {
   "cell_type": "code",
   "execution_count": null,
   "metadata": {},
   "outputs": [],
   "source": [
    "import numpy as np\n",
    "from vis.input_modifiers import Jitter\n",
    "\n",
    "categories = np.random.permutation(num_classes)[:1]\n",
    "\n",
    "vis_images = []\n",
    "image_modifiers = [Jitter(16)]\n",
    "for idx in categories:\n",
    "    whale_id = train_classes[idx]    \n",
    "    \n",
    "    img = visualize_activation(model, layer_idx, filter_indices=idx, max_iter=100, input_modifiers=image_modifiers)\n",
    "    \n",
    "    # Reverse lookup index to imagenet label and overlay it on the image.\n",
    "    img = utils.draw_text(img, whale_id, font=\"VeraMono.ttf\")\n",
    "    vis_images.append(img)\n",
    "\n",
    "# Generate stitched images with 5 cols (so it will have 3 rows).\n",
    "# plt.rcParams['figure.figsize'] = (50, 50)\n",
    "stitched = utils.stitch_images(vis_images, cols=5)\n",
    "plt.axis('off')\n",
    "plt.imshow(stitched)\n",
    "plt.show()"
   ]
  },
  {
   "cell_type": "markdown",
   "metadata": {},
   "source": [
    "# Visualizing Conv filters"
   ]
  },
  {
   "cell_type": "code",
   "execution_count": null,
   "metadata": {},
   "outputs": [],
   "source": [
    "from vis.visualization import get_num_filters\n",
    "\n",
    "# The name of the layer we want to visualize\n",
    "# You can see this in the model definition.\n",
    "layer_name = 'block4_conv3'\n",
    "layer_idx = utils.find_layer_idx(model, layer_name)\n",
    "\n",
    "# Visualize all filters in this layer.\n",
    "filters = np.arange(get_num_filters(model.layers[layer_idx]))\n",
    "\n",
    "# Generate input image for each filter.\n",
    "vis_images = []\n",
    "for idx in filters:\n",
    "    img = visualize_activation(model, layer_idx, filter_indices=idx, input_modifiers=[Jitter(16)])\n",
    "    \n",
    "    # Utility to overlay text on image.\n",
    "    img = utils.draw_text(img, 'Filter {}'.format(idx), font=\"VeraMono.ttf\")    \n",
    "    vis_images.append(img)\n",
    "\n",
    "# Generate stitched image palette with 8 cols.\n",
    "stitched = utils.stitch_images(vis_images, cols=8)    \n",
    "plt.axis('off')\n",
    "plt.imshow(stitched)\n",
    "plt.title(layer_name)\n",
    "plt.show()"
   ]
  },
  {
   "cell_type": "code",
   "execution_count": null,
   "metadata": {},
   "outputs": [],
   "source": []
  }
 ],
 "metadata": {
  "kernelspec": {
   "display_name": "whale-id",
   "language": "python",
   "name": "whale-id"
  },
  "language_info": {
   "codemirror_mode": {
    "name": "ipython",
    "version": 3
   },
   "file_extension": ".py",
   "mimetype": "text/x-python",
   "name": "python",
   "nbconvert_exporter": "python",
   "pygments_lexer": "ipython3",
   "version": "3.6.6"
  }
 },
 "nbformat": 4,
 "nbformat_minor": 2
}
